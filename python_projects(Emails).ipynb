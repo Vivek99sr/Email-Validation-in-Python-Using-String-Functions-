{
  "nbformat": 4,
  "nbformat_minor": 0,
  "metadata": {
    "colab": {
      "provenance": []
    },
    "kernelspec": {
      "name": "python3",
      "display_name": "Python 3"
    },
    "language_info": {
      "name": "python"
    }
  },
  "cells": [
    {
      "cell_type": "markdown",
      "source": [
        "Email Validation in Python (Using String Functions)"
      ],
      "metadata": {
        "id": "5nazk8pZFQM-"
      }
    },
    {
      "cell_type": "code",
      "source": [
        "email=input(\" Enter your Email : \")#g@g.in , viveksrivastava586@gmail.com\n",
        "k,j,d=0,0,0\n",
        "if len(email)>=6:\n",
        "  if email[0].isalpha():\n",
        "    if(\"@\"in email) and (email.count(\"@\")==1):\n",
        "      if (email[-4]==\".\") ^ (email[-3]==\".\"):\n",
        "        for i in email:\n",
        "          if i==i.isspace():\n",
        "            k=1\n",
        "          elif  i.isalpha():\n",
        "            if i==i.upper():\n",
        "              j=1\n",
        "          elif i.isdigit():\n",
        "            continue\n",
        "          elif i==\"_\"or i==\".\" or i==\"@\":\n",
        "            continue\n",
        "          else:\n",
        "            d=1\n",
        "\n",
        "        if k==1 or j==1 or d==1:\n",
        "          print(\"wrong Email 5\")\n",
        "      else:\n",
        "        print(\"wrong Email 4\")\n",
        "    else:\n",
        "      print(\"wrong Email 3\")\n",
        "  else:\n",
        "    print('wrong Email 2') \n",
        "else:\n",
        "  print(\"wrong Email 1\")\n"
      ],
      "metadata": {
        "colab": {
          "base_uri": "https://localhost:8080/"
        },
        "id": "FiY4JLqxFi9d",
        "outputId": "4c4fe9b1-d425-4b9f-f437-f84fd7a06163"
      },
      "execution_count": null,
      "outputs": [
        {
          "output_type": "stream",
          "name": "stdout",
          "text": [
            " Enter your Email : vivek\n",
            "wrong Email 1\n"
          ]
        }
      ]
    },
    {
      "cell_type": "code",
      "source": [
        "email=input(\" Enter your Email : \")#g@g.in , viveksrivastava586@gmail.com\n",
        "k,j,d=0,0,0\n",
        "if len(email)>=6:\n",
        "  if email[0].isalpha():\n",
        "    if(\"@\"in email) and (email.count(\"@\")==1):\n",
        "      if (email[-4]==\".\") ^ (email[-3]==\".\"):\n",
        "        for i in email:\n",
        "          if i==i.isspace():\n",
        "            k=1\n",
        "          elif  i.isalpha():\n",
        "            if i==i.upper():\n",
        "              j=1\n",
        "          elif i.isdigit():\n",
        "            continue\n",
        "          elif i==\"_\"or i==\".\" or i==\"@\":\n",
        "            continue\n",
        "          else:\n",
        "            d=1\n",
        "\n",
        "        if k==1 or j==1 or d==1:\n",
        "          print(\"wrong Email 5\")\n",
        "      else:\n",
        "        print(\"wrong Email 4\")\n",
        "    else:\n",
        "      print(\"wrong Email 3\")\n",
        "  else:\n",
        "    print('wrong Email 2') \n",
        "else:\n",
        "  print(\"wrong Email 1\")\n"
      ],
      "metadata": {
        "colab": {
          "base_uri": "https://localhost:8080/"
        },
        "id": "0Fcluf3aR8sT",
        "outputId": "59e78bb6-d14c-4133-a7f3-7ee4ac06f9f9"
      },
      "execution_count": null,
      "outputs": [
        {
          "output_type": "stream",
          "name": "stdout",
          "text": [
            " Enter your Email : 1vivek@gmail.com\n",
            "wrong Email 2\n"
          ]
        }
      ]
    },
    {
      "cell_type": "code",
      "source": [
        "email=input(\" Enter your Email : \")#g@g.in , viveksrivastava586@gmail.com\n",
        "k,j,d=0,0,0\n",
        "if len(email)>=6:\n",
        "  if email[0].isalpha():\n",
        "    if(\"@\"in email) and (email.count(\"@\")==1):\n",
        "      if (email[-4]==\".\") ^ (email[-3]==\".\"):\n",
        "        for i in email:\n",
        "          if i==i.isspace():\n",
        "            k=1\n",
        "          elif  i.isalpha():\n",
        "            if i==i.upper():\n",
        "              j=1\n",
        "          elif i.isdigit():\n",
        "            continue\n",
        "          elif i==\"_\"or i==\".\" or i==\"@\":\n",
        "            continue\n",
        "          else:\n",
        "            d=1\n",
        "\n",
        "        if k==1 or j==1 or d==1:\n",
        "          print(\"wrong Email 5\")\n",
        "      else:\n",
        "        print(\"wrong Email 4\")\n",
        "    else:\n",
        "      print(\"wrong Email 3\")\n",
        "  else:\n",
        "    print('wrong Email 2') \n",
        "else:\n",
        "  print(\"wrong Email 1\")\n"
      ],
      "metadata": {
        "colab": {
          "base_uri": "https://localhost:8080/"
        },
        "id": "d0jf1Op8R85n",
        "outputId": "c34b5a68-33c8-47e8-c24b-23212e7485d7"
      },
      "execution_count": null,
      "outputs": [
        {
          "output_type": "stream",
          "name": "stdout",
          "text": [
            " Enter your Email : viv@ek@gmail.com\n",
            "wrong Email 3\n"
          ]
        }
      ]
    },
    {
      "cell_type": "code",
      "source": [
        "email=input(\" Enter your Email : \")#g@g.in , viveksrivastava586@gmail.com\n",
        "k,j,d=0,0,0\n",
        "if len(email)>=6:\n",
        "  if email[0].isalpha():\n",
        "    if(\"@\"in email) and (email.count(\"@\")==1):\n",
        "      if (email[-4]==\".\") ^ (email[-3]==\".\"):\n",
        "        for i in email:\n",
        "          if i==i.isspace():\n",
        "            k=1\n",
        "          elif  i.isalpha():\n",
        "            if i==i.upper():\n",
        "              j=1\n",
        "          elif i.isdigit():\n",
        "            continue\n",
        "          elif i==\"_\"or i==\".\" or i==\"@\":\n",
        "            continue\n",
        "          else:\n",
        "            d=1\n",
        "\n",
        "        if k==1 or j==1 or d==1:\n",
        "          print(\"wrong Email 5\")\n",
        "      else:\n",
        "        print(\"wrong Email 4\")\n",
        "    else:\n",
        "      print(\"wrong Email 3\")\n",
        "  else:\n",
        "    print('wrong Email 2') \n",
        "else:\n",
        "  print(\"wrong Email 1\")\n"
      ],
      "metadata": {
        "colab": {
          "base_uri": "https://localhost:8080/"
        },
        "id": "jUEx-g1XSfwg",
        "outputId": "d9148f9b-da1e-42ea-c00b-e7a1c9df6a83"
      },
      "execution_count": null,
      "outputs": [
        {
          "name": "stdout",
          "output_type": "stream",
          "text": [
            " Enter your Email : maishsoni420@gmail.com\n"
          ]
        }
      ]
    },
    {
      "cell_type": "code",
      "source": [
        "email=input(\" Enter your Email : \")#g@g.in , viveksrivastava586@gmail.com\n",
        "k,j,d=0,0,0\n",
        "if len(email)>=6:\n",
        "  if email[0].isalpha():\n",
        "    if(\"@\"in email) and (email.count(\"@\")==1):\n",
        "      if (email[-4]==\".\") ^ (email[-3]==\".\"):\n",
        "        for i in email:\n",
        "          if i==i.isspace():\n",
        "            k=1\n",
        "          elif  i.isalpha():\n",
        "            if i==i.upper():\n",
        "              j=1\n",
        "          elif i.isdigit():\n",
        "            continue\n",
        "          elif i==\"_\"or i==\".\" or i==\"@\":\n",
        "            continue\n",
        "          else:\n",
        "            d=1\n",
        "\n",
        "        if k==1 or j==1 or d==1:\n",
        "          print(\"wrong Email 5\")\n",
        "      else:\n",
        "        print(\"wrong Email 4\")\n",
        "    else:\n",
        "      print(\"wrong Email 3\")\n",
        "  else:\n",
        "    print('wrong Email 2') \n",
        "else:\n",
        "  print(\"wrong Email 1\")\n"
      ],
      "metadata": {
        "colab": {
          "base_uri": "https://localhost:8080/"
        },
        "id": "jNgHqIeUTDtl",
        "outputId": "6c165ded-8adc-4545-9fa3-fe7dc6716d2c"
      },
      "execution_count": null,
      "outputs": [
        {
          "output_type": "stream",
          "name": "stdout",
          "text": [
            " Enter your Email : vivek s@gmail.com\n",
            "wrong Email 5\n"
          ]
        }
      ]
    },
    {
      "cell_type": "code",
      "source": [
        "email=input(\" Enter your Email : \")#g@g.in , viveksrivastava586@gmail.com\n",
        "k,j,d=0,0,0\n",
        "if len(email)>=6:\n",
        "  if email[0].isalpha():\n",
        "    if(\"@\"in email) and (email.count(\"@\")==1):\n",
        "      if (email[-4]==\".\") ^ (email[-3]==\".\"):\n",
        "        for i in email:\n",
        "          if i==i.isspace():\n",
        "            k=1\n",
        "          elif  i.isalpha():\n",
        "            if i==i.upper():\n",
        "              j=1\n",
        "          elif i.isdigit():\n",
        "            continue\n",
        "          elif i==\"_\"or i==\".\" or i==\"@\":\n",
        "            continue\n",
        "          else:\n",
        "            d=1\n",
        "\n",
        "        if k==1 or j==1 or d==1:\n",
        "          print(\"wrong Email 5\")\n",
        "      else:\n",
        "        print(\"wrong Email 4\")\n",
        "    else:\n",
        "      print(\"wrong Email 3\")\n",
        "  else:\n",
        "    print('wrong Email 2') \n",
        "else:\n",
        "  print(\"wrong Email 1\")\n"
      ],
      "metadata": {
        "colab": {
          "base_uri": "https://localhost:8080/"
        },
        "id": "-KN2tX4sTV4N",
        "outputId": "0f0c3882-a9e9-4eb9-c44c-d124054ceeb6"
      },
      "execution_count": null,
      "outputs": [
        {
          "output_type": "stream",
          "name": "stdout",
          "text": [
            " Enter your Email : Viveks@gmail.com\n",
            "wrong Email 5\n"
          ]
        }
      ]
    },
    {
      "cell_type": "code",
      "source": [
        "email=input(\" Enter your Email : \")#g@g.in , viveksrivastava586@gmail.com\n",
        "k,j,d=0,0,0\n",
        "if len(email)>=6:\n",
        "  if email[0].isalpha():\n",
        "    if(\"@\"in email) and (email.count(\"@\")==1):\n",
        "      if (email[-4]==\".\") ^ (email[-3]==\".\"):\n",
        "        for i in email:\n",
        "          if i==i.isspace():\n",
        "            k=1\n",
        "          elif  i.isalpha():\n",
        "            if i==i.upper():\n",
        "              j=1\n",
        "          elif i.isdigit():\n",
        "            continue\n",
        "          elif i==\"_\"or i==\".\" or i==\"@\":\n",
        "            continue\n",
        "          else:\n",
        "            d=1\n",
        "\n",
        "        if k==1 or j==1 or d==1:\n",
        "          print(\"wrong Email 5\")\n",
        "      else:\n",
        "        print(\"wrong Email 4\")\n",
        "    else:\n",
        "      print(\"wrong Email 3\")\n",
        "  else:\n",
        "    print('wrong Email 2') \n",
        "else:\n",
        "  print(\"wrong Email 1\")\n"
      ],
      "metadata": {
        "colab": {
          "base_uri": "https://localhost:8080/"
        },
        "id": "MTyemHTlTihg",
        "outputId": "81653422-6368-47ab-f5d4-359fb8b60aec"
      },
      "execution_count": null,
      "outputs": [
        {
          "name": "stdout",
          "output_type": "stream",
          "text": [
            " Enter your Email : manishsoni123@gmail.com\n"
          ]
        }
      ]
    },
    {
      "cell_type": "code",
      "source": [
        "email=input(\" Enter your Email : \")#g@g.in , viveksrivastava586@gmail.com\n",
        "k,j,d=0,0,0\n",
        "if len(email)>=6:\n",
        "  if email[0].isalpha():\n",
        "    if(\"@\"in email) and (email.count(\"@\")==1):\n",
        "      if (email[-4]==\".\") ^ (email[-3]==\".\"):\n",
        "        for i in email:\n",
        "          if i==i.isspace():\n",
        "            k=1\n",
        "          elif  i.isalpha():\n",
        "            if i==i.upper():\n",
        "              j=1\n",
        "          elif i.isdigit():\n",
        "            continue\n",
        "          elif i==\"_\"or i==\".\" or i==\"@\":\n",
        "            continue\n",
        "          else:\n",
        "            d=1\n",
        "\n",
        "        if k==1 or j==1 or d==1:\n",
        "          print(\"wrong Email 5\")\n",
        "        else:\n",
        "          print(\" Right Email \")\n",
        "      else:\n",
        "        print(\"wrong Email 4\")\n",
        "    else:\n",
        "      print(\"wrong Email 3\")\n",
        "  else:\n",
        "    print('wrong Email 2') \n",
        "else:\n",
        "  print(\"wrong Email 1\")\n"
      ],
      "metadata": {
        "colab": {
          "base_uri": "https://localhost:8080/"
        },
        "id": "VILRMI8ST2nB",
        "outputId": "281f0d50-5ffa-43fc-e1db-b8d8574433cb"
      },
      "execution_count": null,
      "outputs": [
        {
          "output_type": "stream",
          "name": "stdout",
          "text": [
            " Enter your Email : manishsoni234@gmail.com\n",
            " Right Email \n"
          ]
        }
      ]
    },
    {
      "cell_type": "code",
      "source": [
        "email=input(\" Enter your Email : \")#g@g.in , viveksrivastava586@gmail.com\n",
        "k,j,d=0,0,0\n",
        "if len(email)>=6:\n",
        "  if email[0].isalpha():\n",
        "    if(\"@\"in email) and (email.count(\"@\")==1):\n",
        "      if (email[-4]==\".\") ^ (email[-3]==\".\"):\n",
        "        for i in email:\n",
        "          if i==i.isspace():\n",
        "            k=1\n",
        "          elif  i.isalpha():\n",
        "            if i==i.upper():\n",
        "              j=1\n",
        "          elif i.isdigit():\n",
        "            continue\n",
        "          elif i==\"_\"or i==\".\" or i==\"@\":\n",
        "            continue\n",
        "          else:\n",
        "            d=1\n",
        "\n",
        "        if k==1 or j==1 or d==1:\n",
        "          print(\"wrong Email 5\")\n",
        "        else:\n",
        "          print(\" Right Email \")\n",
        "      else:\n",
        "        print(\"wrong Email 4\")\n",
        "    else:\n",
        "      print(\"wrong Email 3\")\n",
        "  else:\n",
        "    print('wrong Email 2') \n",
        "else:\n",
        "  print(\"wrong Email 1\")\n"
      ],
      "metadata": {
        "colab": {
          "base_uri": "https://localhost:8080/"
        },
        "id": "nv8p7ibQUnLL",
        "outputId": "828c7492-c6c0-42fc-92c5-764597ccd2f9"
      },
      "execution_count": null,
      "outputs": [
        {
          "output_type": "stream",
          "name": "stdout",
          "text": [
            " Enter your Email : vivek.s@gmail.com\n",
            " Right Email \n"
          ]
        }
      ]
    },
    {
      "cell_type": "code",
      "source": [
        "email=input(\" Enter your Email : \")#g@g.in , viveksrivastava586@gmail.com\n",
        "k,j,d=0,0,0\n",
        "if len(email)>=6:\n",
        "  if email[0].isalpha():\n",
        "    if(\"@\"in email) and (email.count(\"@\")==1):\n",
        "      if (email[-4]==\".\") ^ (email[-3]==\".\"):\n",
        "        for i in email:\n",
        "          if i==i.isspace():\n",
        "            k=1\n",
        "          elif  i.isalpha():\n",
        "            if i==i.upper():\n",
        "              j=1\n",
        "          elif i.isdigit():\n",
        "            continue\n",
        "          elif i==\"_\"or i==\".\" or i==\"@\":\n",
        "            continue\n",
        "          else:\n",
        "            d=1\n",
        "\n",
        "        if k==1 or j==1 or d==1:\n",
        "          print(\"wrong Email 5\")\n",
        "        else:\n",
        "          print(\" Right Email \")\n",
        "      else:\n",
        "        print(\"wrong Email 4\")\n",
        "    else:\n",
        "      print(\"wrong Email 3\")\n",
        "  else:\n",
        "    print('wrong Email 2') \n",
        "else:\n",
        "  print(\"wrong Email 1\")\n"
      ],
      "metadata": {
        "colab": {
          "base_uri": "https://localhost:8080/"
        },
        "id": "N64NGqipUpoq",
        "outputId": "abe2586b-6d1d-40e2-ac65-8a3637eb5d0a"
      },
      "execution_count": null,
      "outputs": [
        {
          "output_type": "stream",
          "name": "stdout",
          "text": [
            " Enter your Email : vivek_sr.3006@gmail.com\n",
            " Right Email \n"
          ]
        }
      ]
    },
    {
      "cell_type": "code",
      "source": [
        "email=input(\" Enter your Email : \")#g@g.in , viveksrivastava586@gmail.com\n",
        "k,j,d=0,0,0\n",
        "if len(email)>=6:\n",
        "  if email[0].isalpha():\n",
        "    if(\"@\"in email) and (email.count(\"@\")==1):\n",
        "      if (email[-4]==\".\") ^ (email[-3]==\".\"):\n",
        "        for i in email:\n",
        "          if i==i.isspace():\n",
        "            k=1\n",
        "          elif  i.isalpha():\n",
        "            if i==i.upper():\n",
        "              j=1\n",
        "          elif i.isdigit():\n",
        "            continue\n",
        "          elif i==\"_\"or i==\".\" or i==\"@\":\n",
        "            continue\n",
        "          else:\n",
        "            d=1\n",
        "\n",
        "        if k==1 or j==1 or d==1:\n",
        "          print(\"wrong Email 5\")\n",
        "        else:\n",
        "          print(\" Right Email \")\n",
        "      else:\n",
        "        print(\"wrong Email 4\")\n",
        "    else:\n",
        "      print(\"wrong Email 3\")\n",
        "  else:\n",
        "    print('wrong Email 2') \n",
        "else:\n",
        "  print(\"wrong Email 1\")\n"
      ],
      "metadata": {
        "colab": {
          "base_uri": "https://localhost:8080/"
        },
        "id": "lDOZv-ckU2RB",
        "outputId": "03e08839-b45b-4fbe-dc50-4f2f2d9f5c9b"
      },
      "execution_count": null,
      "outputs": [
        {
          "output_type": "stream",
          "name": "stdout",
          "text": [
            " Enter your Email : viveksrivastava586@gmail.com\n",
            " Right Email \n"
          ]
        }
      ]
    },
    {
      "cell_type": "markdown",
      "source": [
        "EMAIL VALIDATION IN PYTHON (USING REGEX)"
      ],
      "metadata": {
        "id": "95kUV0MAYpDM"
      }
    },
    {
      "cell_type": "code",
      "source": [
        "#a-z\n",
        "#0-9\n",
        "#. _ time 1\n",
        "#@ time 1\n",
        "# . 2,3 from back side\n",
        "import re\n",
        "email_condition=\"^[a-z]+[\\._]?[@]\\w+[.]\\w{2,3}$\"\n",
        "user_email=input(' Enter the Email : ')\n",
        "\n",
        "if re.search(email_condition,user_email):\n",
        "  print(\"Right Email\")\n",
        "else:\n",
        "  print(\" Wrong Email \")"
      ],
      "metadata": {
        "colab": {
          "base_uri": "https://localhost:8080/"
        },
        "id": "eR2SrcFqaXxN",
        "outputId": "029233a7-988b-44b7-e264-327a49ecae70"
      },
      "execution_count": null,
      "outputs": [
        {
          "output_type": "stream",
          "name": "stdout",
          "text": [
            " Enter the Email : 1viveks@gmail.com\n",
            " Wrong Email \n"
          ]
        }
      ]
    },
    {
      "cell_type": "code",
      "source": [
        "email_condition=\"^[a-z]+[\\._]?[@]\\w+[.]\\w{2,3}$\"\n",
        "user_email=input(' Enter the Email : ')\n",
        "\n",
        "if re.search(email_condition,user_email):\n",
        "  print(\"Right Email\")\n",
        "else:\n",
        "  print(\" Wrong Email \")"
      ],
      "metadata": {
        "id": "IDG_7AIHU9xQ",
        "colab": {
          "base_uri": "https://localhost:8080/"
        },
        "outputId": "f048bb4e-4d7d-4dbe-ec3c-4153ba422891"
      },
      "execution_count": null,
      "outputs": [
        {
          "output_type": "stream",
          "name": "stdout",
          "text": [
            " Enter the Email : viv.ek.s@gmail.com\n",
            " Wrong Email \n"
          ]
        }
      ]
    },
    {
      "cell_type": "code",
      "source": [
        "email_condition=\"^[a-z]+[\\._]?[@]\\w+[.]\\w{2,3}$\"\n",
        "user_email=input(' Enter the Email : ')\n",
        "\n",
        "if re.search(email_condition,user_email):\n",
        "  print(\"Right Email\")\n",
        "else:\n",
        "  print(\" Wrong Email \")"
      ],
      "metadata": {
        "colab": {
          "base_uri": "https://localhost:8080/"
        },
        "id": "CHY9wKqFg9MU",
        "outputId": "be7b08f0-1567-4ec0-fb04-5821c46a1320"
      },
      "execution_count": null,
      "outputs": [
        {
          "output_type": "stream",
          "name": "stdout",
          "text": [
            " Enter the Email : viveks@gmail.comcom\n",
            " Wrong Email \n"
          ]
        }
      ]
    },
    {
      "cell_type": "code",
      "source": [
        "email_condition=\"^[a-z]+[\\._]?[@]\\w+[.]\\w{2,3}$\"\n",
        "user_email=input(' Enter the Email : ')\n",
        "\n",
        "if re.search(email_condition,user_email):\n",
        "  print(\"Right Email\")\n",
        "else:\n",
        "  print(\" Wrong Email \")"
      ],
      "metadata": {
        "colab": {
          "base_uri": "https://localhost:8080/"
        },
        "id": "xU0eyvBKhFCR",
        "outputId": "638f9d27-0bf6-4f6a-ec77-8da88ff8c36d"
      },
      "execution_count": null,
      "outputs": [
        {
          "output_type": "stream",
          "name": "stdout",
          "text": [
            " Enter the Email : vivek.s_r123@gmail.com\n",
            " Wrong Email \n"
          ]
        }
      ]
    },
    {
      "cell_type": "code",
      "source": [
        "email_condition=\"^[a-z]+[\\._]?[@]\\w+[.]\\w{2,3}$\"\n",
        "user_email=input(' Enter the Email : ')\n",
        "\n",
        "if re.search(email_condition,user_email):\n",
        "  print(\"Right Email\")\n",
        "else:\n",
        "  print(\" Wrong Email \")\n"
      ],
      "metadata": {
        "colab": {
          "base_uri": "https://localhost:8080/"
        },
        "id": "_-T_y2DChZFX",
        "outputId": "c65265cb-59b3-4b5f-93a6-5a6307089ab3"
      },
      "execution_count": null,
      "outputs": [
        {
          "output_type": "stream",
          "name": "stdout",
          "text": [
            " Enter the Email : vivek_s@gmail.in\n",
            " Wrong Email \n"
          ]
        }
      ]
    },
    {
      "cell_type": "code",
      "source": [
        "email_condition=\"^[a-z]+[\\._]?[@]\\w+[.]\\w{2,3}$\"\n",
        "user_email=input(' Enter the Email : ')\n",
        "\n",
        "if re.search(email_condition,user_email):\n",
        "  print(\"Right Email\")\n",
        "else:\n",
        "  print(\" Wrong Email \")"
      ],
      "metadata": {
        "colab": {
          "base_uri": "https://localhost:8080/"
        },
        "id": "3Hf_RFD9hkpF",
        "outputId": "4e0094c2-c709-4d03-b6cb-2a376e779cb9"
      },
      "execution_count": null,
      "outputs": [
        {
          "output_type": "stream",
          "name": "stdout",
          "text": [
            " Enter the Email : vivek.s123@gmail.com\n",
            " Wrong Email \n"
          ]
        }
      ]
    },
    {
      "cell_type": "code",
      "source": [
        "email_condition=\"^[a-z]+[\\._]?[a-z 0-9]+[@]\\w+[.]\\w{2,3}$\"\n",
        "user_email=input(' Enter the Email : ')\n",
        "\n",
        "if re.search(email_condition,user_email):\n",
        "  print(\"Right Email\")\n",
        "else:\n",
        "  print(\" Wrong Email \")"
      ],
      "metadata": {
        "colab": {
          "base_uri": "https://localhost:8080/"
        },
        "id": "6CQp0KwVh6QN",
        "outputId": "f1bbb4b8-39e2-4a80-b01c-2b81b2532f7d"
      },
      "execution_count": null,
      "outputs": [
        {
          "output_type": "stream",
          "name": "stdout",
          "text": [
            " Enter the Email : viv.eks@gmail.com\n",
            "Right Email\n"
          ]
        }
      ]
    },
    {
      "cell_type": "code",
      "source": [
        "email_condition=\"^[a-z]+[\\._]?[a-z 0-9]+[@]\\w+[.]\\w{2,3}$\"\n",
        "user_email=input(' Enter the Email : ')\n",
        "\n",
        "if re.search(email_condition,user_email):\n",
        "  print(\"Right Email\")\n",
        "else:\n",
        "  print(\" Wrong Email \")"
      ],
      "metadata": {
        "colab": {
          "base_uri": "https://localhost:8080/"
        },
        "id": "BRH-bCq1iGO3",
        "outputId": "712fe868-29ef-4ac6-acb7-4d0a6774cfa5"
      },
      "execution_count": null,
      "outputs": [
        {
          "output_type": "stream",
          "name": "stdout",
          "text": [
            " Enter the Email : viv.eks123@gmail.com\n",
            "Right Email\n"
          ]
        }
      ]
    },
    {
      "cell_type": "code",
      "source": [
        "import pygame\n",
        "pygame.init()\n",
        "dis=pygame.display.set_mode((400,300))\n",
        "pygame.display.update()\n",
        "pygame.quit()\n",
        "quit()"
      ],
      "metadata": {
        "id": "U5o5dAZKjOzC",
        "colab": {
          "base_uri": "https://localhost:8080/",
          "height": 373
        },
        "outputId": "187cfdb5-6bb3-415b-9c05-67d90f04d0e0"
      },
      "execution_count": null,
      "outputs": [
        {
          "output_type": "error",
          "ename": "ModuleNotFoundError",
          "evalue": "ignored",
          "traceback": [
            "\u001b[0;31m---------------------------------------------------------------------------\u001b[0m",
            "\u001b[0;31mModuleNotFoundError\u001b[0m                       Traceback (most recent call last)",
            "\u001b[0;32m<ipython-input-1-e23fdd68ec8f>\u001b[0m in \u001b[0;36m<module>\u001b[0;34m\u001b[0m\n\u001b[0;32m----> 1\u001b[0;31m \u001b[0;32mimport\u001b[0m \u001b[0mpygame\u001b[0m\u001b[0;34m\u001b[0m\u001b[0;34m\u001b[0m\u001b[0m\n\u001b[0m\u001b[1;32m      2\u001b[0m \u001b[0mpygame\u001b[0m\u001b[0;34m.\u001b[0m\u001b[0minit\u001b[0m\u001b[0;34m(\u001b[0m\u001b[0;34m)\u001b[0m\u001b[0;34m\u001b[0m\u001b[0;34m\u001b[0m\u001b[0m\n\u001b[1;32m      3\u001b[0m \u001b[0mdis\u001b[0m\u001b[0;34m=\u001b[0m\u001b[0mpygame\u001b[0m\u001b[0;34m.\u001b[0m\u001b[0mdisplay\u001b[0m\u001b[0;34m.\u001b[0m\u001b[0mset_mode\u001b[0m\u001b[0;34m(\u001b[0m\u001b[0;34m(\u001b[0m\u001b[0;36m400\u001b[0m\u001b[0;34m,\u001b[0m\u001b[0;36m300\u001b[0m\u001b[0;34m)\u001b[0m\u001b[0;34m)\u001b[0m\u001b[0;34m\u001b[0m\u001b[0;34m\u001b[0m\u001b[0m\n\u001b[1;32m      4\u001b[0m \u001b[0mpygame\u001b[0m\u001b[0;34m.\u001b[0m\u001b[0mdisplay\u001b[0m\u001b[0;34m.\u001b[0m\u001b[0mupdate\u001b[0m\u001b[0;34m(\u001b[0m\u001b[0;34m)\u001b[0m\u001b[0;34m\u001b[0m\u001b[0;34m\u001b[0m\u001b[0m\n\u001b[1;32m      5\u001b[0m \u001b[0mpygame\u001b[0m\u001b[0;34m.\u001b[0m\u001b[0mquit\u001b[0m\u001b[0;34m(\u001b[0m\u001b[0;34m)\u001b[0m\u001b[0;34m\u001b[0m\u001b[0;34m\u001b[0m\u001b[0m\n",
            "\u001b[0;31mModuleNotFoundError\u001b[0m: No module named 'pygame'",
            "",
            "\u001b[0;31m---------------------------------------------------------------------------\u001b[0;32m\nNOTE: If your import is failing due to a missing package, you can\nmanually install dependencies using either !pip or !apt.\n\nTo view examples of installing some common dependencies, click the\n\"Open Examples\" button below.\n\u001b[0;31m---------------------------------------------------------------------------\u001b[0m\n"
          ],
          "errorDetails": {
            "actions": [
              {
                "action": "open_url",
                "actionText": "Open Examples",
                "url": "/notebooks/snippets/importing_libraries.ipynb"
              }
            ]
          }
        }
      ]
    },
    {
      "cell_type": "markdown",
      "source": [
        "QR CODE GENERATOR IN PYTHON"
      ],
      "metadata": {
        "id": "U_R5WtGMjbIZ"
      }
    },
    {
      "cell_type": "code",
      "source": [],
      "metadata": {
        "id": "taxYUpLejgXa"
      },
      "execution_count": null,
      "outputs": []
    }
  ]
}